{
 "cells": [
  {
   "cell_type": "markdown",
   "metadata": {},
   "source": [
    "# Condicional (IF) -> Cap 03\n",
    "## Github: https://github.com/naberss"
   ]
  },
  {
   "cell_type": "code",
   "execution_count": 5,
   "metadata": {},
   "outputs": [
    {
     "name": "stdout",
     "output_type": "stream",
     "text": [
      "mamao\n"
     ]
    }
   ],
   "source": [
    "# Declarando variável XVAR e usando subcondicionais else e elif para tratamento nas variações do código \n",
    "\n",
    "xvar = 15\n",
    "if (xvar == 12): \n",
    "    print('pera')\n",
    "elif (xvar == 13):\n",
    "    print('picles')\n",
    "else:\n",
    "    print('mamao')"
   ]
  },
  {
   "cell_type": "code",
   "execution_count": 8,
   "metadata": {},
   "outputs": [
    {
     "name": "stdout",
     "output_type": "stream",
     "text": [
      "banana\n"
     ]
    }
   ],
   "source": [
    "# If e Else com valores booleanos\n",
    "# Por si só o operador booleano sem qualquer atriuição é sempre True\n",
    "\n",
    "if False: \n",
    "    print(\"pepino\")\n",
    "elif True:\n",
    "    print(\"banana\")"
   ]
  },
  {
   "cell_type": "markdown",
   "metadata": {},
   "source": [
    "### Condicionais aninhadas (Nested condicionals) e condicionais lógicas"
   ]
  },
  {
   "cell_type": "code",
   "execution_count": 16,
   "metadata": {},
   "outputs": [
    {
     "name": "stdout",
     "output_type": "stream",
     "text": [
      "pedrinho pescador\n"
     ]
    }
   ],
   "source": [
    "xvar2 = 'Pedrin'\n",
    "if (xvar2 == 'Pedrin'):\n",
    "    if (xvar2[0] == 'p' and xvar2[1] == 'e'):\n",
    "        print('pedrinho matador')\n",
    "    elif (xvar2[0] == 'P' or xvar2[1] == 'e'):\n",
    "        print('pedrinho pescador')\n",
    "    else:\n",
    "        print('pedrinho amador')\n",
    "else:\n",
    "    print('coruja')"
   ]
  },
  {
   "cell_type": "markdown",
   "metadata": {},
   "source": [
    "### Utilizando Input e mais condicionais lógicas"
   ]
  },
  {
   "cell_type": "code",
   "execution_count": 18,
   "metadata": {},
   "outputs": [
    {
     "name": "stdout",
     "output_type": "stream",
     "text": [
      "Digite a fruta a ser considerada: pepino\n",
      "Digite a quantidade de frutas a ser considerada: 135\n",
      "não vem que não tem\n"
     ]
    }
   ],
   "source": [
    "fruta = input(\"Digite a fruta a ser considerada: \")\n",
    "quantidade = input(\"Digite a quantidade de frutas a ser considerada: \")\n",
    "\n",
    "if (fruta != 'pepino'):\n",
    "    if (quantidade > 2):\n",
    "        print(\"Infelizmente essa quantidade não cabe na sacola\")\n",
    "    else:\n",
    "        print(\"boa mlkote\")\n",
    "if ((fruta == 'pepino') and (int(quantidade) > 0)):\n",
    "    print(\"não vem que não tem\")\n"
   ]
  },
  {
   "cell_type": "markdown",
   "metadata": {},
   "source": [
    "## Utilizando variações do método print"
   ]
  },
  {
   "cell_type": "code",
   "execution_count": 16,
   "metadata": {},
   "outputs": [
    {
     "name": "stdout",
     "output_type": "stream",
     "text": [
      "digite qualquer coisa: maracuja\n",
      "digite qualquer coisa: pera\n",
      "pepino banana e maracuja e pera\n"
     ]
    }
   ],
   "source": [
    "my_var_teste = input(\"digite qualquer coisa: \")\n",
    "my_var_teste2 = input(\"digite qualquer coisa: \")\n",
    "\n",
    "if (my_var_teste == 'maracuja'):\n",
    "    print(\"pepino banana e %s e %s\" % (my_var_teste, my_var_teste2))"
   ]
  }
 ],
 "metadata": {
  "kernelspec": {
   "display_name": "Python 3",
   "language": "python",
   "name": "python3"
  },
  "language_info": {
   "codemirror_mode": {
    "name": "ipython",
    "version": 3
   },
   "file_extension": ".py",
   "mimetype": "text/x-python",
   "name": "python",
   "nbconvert_exporter": "python",
   "pygments_lexer": "ipython3",
   "version": "3.8.5"
  }
 },
 "nbformat": 4,
 "nbformat_minor": 4
}
