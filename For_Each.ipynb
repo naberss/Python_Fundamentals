{
 "cells": [
  {
   "cell_type": "markdown",
   "metadata": {},
   "source": [
    "# Estrutura de Repetição (FOR) -  Cap03\n",
    "## Github: http://github.com/naberss"
   ]
  },
  {
   "cell_type": "code",
   "execution_count": 3,
   "metadata": {},
   "outputs": [
    {
     "name": "stdout",
     "output_type": "stream",
     "text": [
      "1\n",
      "2\n",
      "3\n",
      "4\n"
     ]
    }
   ],
   "source": [
    "# Testando For com tupla\n",
    "\n",
    "my_tuple = (1,2,3,4)\n",
    "for rec in my_tuple:\n",
    "    print(rec)"
   ]
  },
  {
   "cell_type": "code",
   "execution_count": 4,
   "metadata": {},
   "outputs": [
    {
     "name": "stdout",
     "output_type": "stream",
     "text": [
      "1\n",
      "2\n",
      "3\n",
      "4\n"
     ]
    }
   ],
   "source": [
    "# Testando For com lista\n",
    "\n",
    "my_list = [1,2,3,4]\n",
    "for rec in my_tuple:\n",
    "    print(rec)"
   ]
  },
  {
   "cell_type": "code",
   "execution_count": 5,
   "metadata": {},
   "outputs": [
    {
     "name": "stdout",
     "output_type": "stream",
     "text": [
      "0\n",
      "1\n",
      "2\n",
      "3\n",
      "4\n"
     ]
    }
   ],
   "source": [
    "# Método Range\n",
    "\n",
    "for rec in range(0,5):\n",
    "    print(rec)"
   ]
  },
  {
   "cell_type": "code",
   "execution_count": 12,
   "metadata": {},
   "outputs": [
    {
     "name": "stdout",
     "output_type": "stream",
     "text": [
      "0\n",
      "2\n",
      "4\n",
      "6\n",
      "8\n",
      "10\n"
     ]
    }
   ],
   "source": [
    "# Variações do método range (saltando elementos de 2 em dois)\n",
    "\n",
    "for rec in range (0,11,2):\n",
    "    print(rec)"
   ]
  },
  {
   "cell_type": "code",
   "execution_count": 10,
   "metadata": {},
   "outputs": [
    {
     "name": "stdout",
     "output_type": "stream",
     "text": [
      "1\n",
      "mamao\n",
      "3\n",
      "4\n",
      "5\n",
      "6\n"
     ]
    }
   ],
   "source": [
    "# Unindo For e IF\n",
    "\n",
    "my_list2 = [1, 2, 3, 4, 5, 6]\n",
    "\n",
    "for rec in my_list2:\n",
    "    if ((rec / 2) == 1):\n",
    "        print(\"mamao\")\n",
    "    else:\n",
    "        print(rec)"
   ]
  },
  {
   "cell_type": "code",
   "execution_count": 18,
   "metadata": {},
   "outputs": [
    {
     "name": "stdout",
     "output_type": "stream",
     "text": [
      "p\n",
      "r\n"
     ]
    }
   ],
   "source": [
    "# Strings também podem ser utilizadas como objetos para loop .e.g\n",
    "xvar = \"pera\"\n",
    "for rec in (xvar[::2]):\n",
    "    print(rec)"
   ]
  },
  {
   "cell_type": "code",
   "execution_count": 21,
   "metadata": {},
   "outputs": [
    {
     "name": "stdout",
     "output_type": "stream",
     "text": [
      "0 + 0 = 0\n",
      "0 + 1 = 1\n",
      "1 + 0 = 1\n",
      "1 + 1 = 2\n",
      "2 + 0 = 2\n",
      "2 + 1 = 3\n",
      "3 + 0 = 3\n",
      "3 + 1 = 4\n",
      "4 + 0 = 4\n",
      "4 + 1 = 5\n"
     ]
    }
   ],
   "source": [
    "# Loops Aninhados (Nested Loops)\n",
    "\n",
    "for rec in range(0, 5):\n",
    "    for rec2 in range(0, 2):\n",
    "        print('%i + %i = %i' % (rec, rec2, (rec + rec2)))"
   ]
  },
  {
   "cell_type": "code",
   "execution_count": 24,
   "metadata": {},
   "outputs": [
    {
     "name": "stdout",
     "output_type": "stream",
     "text": [
      "0\n",
      "5\n"
     ]
    }
   ],
   "source": [
    "# for usando listas aninhadas (Neste lists)\n",
    "# Acessa o 1º valor da primeira lista e o 2º valor da segunga \n",
    "my_new_list = [[0,1,2,3],[4,5,6,7]]\n",
    "xcount = 0\n",
    "for rec in my_new_list:\n",
    "    print(rec[xcount])\n",
    "    xcount += 1"
   ]
  },
  {
   "cell_type": "code",
   "execution_count": 27,
   "metadata": {},
   "outputs": [
    {
     "name": "stdout",
     "output_type": "stream",
     "text": [
      "List 1 - 0\n",
      "List 1 - 1\n",
      "List 1 - 2\n",
      "List 1 - 3\n",
      "List 2 - 4\n",
      "List 2 - 5\n",
      "List 2 - 6\n",
      "List 2 - 7\n"
     ]
    }
   ],
   "source": [
    "# Percorrendo uma matriz de lista \n",
    "\n",
    "my_new_list2 = [[0,1,2,3],[4,5,6,7]]\n",
    "xcount = 0\n",
    "for rec in my_new_list2:\n",
    "    xcount  += 1\n",
    "    for rec2 in rec:\n",
    "        print(\"List %i - %i\" %(xcount,rec2))\n"
   ]
  },
  {
   "cell_type": "code",
   "execution_count": 28,
   "metadata": {},
   "outputs": [
    {
     "name": "stdout",
     "output_type": "stream",
     "text": [
      "('key1', 1)\n",
      "('key2', 2)\n",
      "('key3', 3)\n",
      "key1\n",
      "key2\n",
      "key3\n",
      "1\n",
      "2\n",
      "3\n"
     ]
    }
   ],
   "source": [
    "# Retrivando valores de dicionarios via metodos built - in\n",
    "# My_Dict.Items() -> Retorna chaves e valores simultaneamente\n",
    "# My_Dict.Values() -> Retorna valores \n",
    "# My_Dict.Keys() -> Retorna chaves\n",
    "\n",
    "my_dict = {\"key1\": 1, \"key2\": 2, \"key3\": 3}\n",
    "for rec in my_dict.items():\n",
    "    print(rec)\n",
    "\n",
    "for rec in my_dict.keys():\n",
    "    print(rec)\n",
    "\n",
    "for rec in my_dict.values():\n",
    "    print(rec)"
   ]
  },
  {
   "cell_type": "code",
   "execution_count": 29,
   "metadata": {},
   "outputs": [
    {
     "name": "stdout",
     "output_type": "stream",
     "text": [
      "Chave: key1 e Valor: 1\n",
      "Chave: key2 e Valor: 2\n",
      "Chave: key3 e Valor: 3\n"
     ]
    }
   ],
   "source": [
    "# Usando múltiplos identificadores para retornar valores a partir do metodos items do dic.\n",
    "\n",
    "my_dict = {\"key1\": 1, \"key2\": 2, \"key3\": 3}\n",
    "for rec1, rec2 in my_dict.items():\n",
    "    print('Chave: %s e Valor: %i' % (rec1, rec2))"
   ]
  }
 ],
 "metadata": {
  "kernelspec": {
   "display_name": "Python 3",
   "language": "python",
   "name": "python3"
  },
  "language_info": {
   "codemirror_mode": {
    "name": "ipython",
    "version": 3
   },
   "file_extension": ".py",
   "mimetype": "text/x-python",
   "name": "python",
   "nbconvert_exporter": "python",
   "pygments_lexer": "ipython3",
   "version": "3.8.5"
  }
 },
 "nbformat": 4,
 "nbformat_minor": 4
}
