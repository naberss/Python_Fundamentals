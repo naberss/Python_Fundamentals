{
 "cells": [
  {
   "cell_type": "markdown",
   "metadata": {},
   "source": [
    "# Métodos e suas peculiaridades de funções built-in\n",
    "## Github: http://github.com/naberss"
   ]
  },
  {
   "cell_type": "code",
   "execution_count": 2,
   "metadata": {},
   "outputs": [
    {
     "name": "stdout",
     "output_type": "stream",
     "text": [
      "200\n"
     ]
    }
   ],
   "source": [
    "# Sintaxe básica \n",
    "\n",
    "def myFunc(xvar):\n",
    "    xvar += 100 \n",
    "    return xvar\n",
    "print(myFunc(100))"
   ]
  },
  {
   "cell_type": "code",
   "execution_count": 3,
   "metadata": {},
   "outputs": [
    {
     "name": "stdout",
     "output_type": "stream",
     "text": [
      "200\n",
      "130\n"
     ]
    }
   ],
   "source": [
    "# Métodos não interferem em variáveis de cunho global\n",
    "\n",
    "xvarGlobal = 130\n",
    "\n",
    "def myFunc(xvar):\n",
    "    xvar += 100 \n",
    "    return xvar\n",
    "\n",
    "print(myFunc(100))\n",
    "print(xvarGlobal)\n"
   ]
  },
  {
   "cell_type": "code",
   "execution_count": 4,
   "metadata": {},
   "outputs": [
    {
     "name": "stdout",
     "output_type": "stream",
     "text": [
      "200\n",
      "130\n"
     ]
    }
   ],
   "source": [
    "# Variáveis global redeclaradas dentro de metodos sao clonadas internamente e descartadas ao fim do mesmo\n",
    "\n",
    "xvarGlobal = 130\n",
    "\n",
    "def myFunc(xvar):\n",
    "    xvarGlobal = xvar + 100\n",
    "    return xvarGlobal\n",
    "\n",
    "print(myFunc(100))\n",
    "print(xvarGlobal)"
   ]
  },
  {
   "cell_type": "code",
   "execution_count": 20,
   "metadata": {},
   "outputs": [
    {
     "name": "stdout",
     "output_type": "stream",
     "text": [
      "type something: 45\n",
      "180\n",
      "180.5\n",
      "type something again: dfsdf\n",
      "dfsdf banana\n"
     ]
    }
   ],
   "source": [
    "# Métodos para conversão de tipos primitivos\n",
    "\n",
    "xvar = input(\"type something: \")\n",
    "\n",
    "print(int(xvar) + 135) \n",
    "print(float(xvar) + 135.5) \n",
    "\n",
    "xvar = input(\"type something again: \")\n",
    "\n",
    "print(\"%s banana\" %(xvar) )"
   ]
  },
  {
   "cell_type": "code",
   "execution_count": 23,
   "metadata": {},
   "outputs": [
    {
     "name": "stdout",
     "output_type": "stream",
     "text": [
      "5\n",
      "1\n",
      "15\n"
     ]
    }
   ],
   "source": [
    "# Métodos de agregação para arrays\n",
    "\n",
    "my_list = [1,2,3,4,5]\n",
    "\n",
    "xvarMax = max(my_list)\n",
    "xvarMin = min(my_list)\n",
    "xvarSum = sum(my_list)\n",
    "\n",
    "print(xvarMax)\n",
    "print(xvarMin)\n",
    "print(xvarSum)"
   ]
  },
  {
   "cell_type": "code",
   "execution_count": 2,
   "metadata": {},
   "outputs": [
    {
     "name": "stdout",
     "output_type": "stream",
     "text": [
      "Este número é primo\n"
     ]
    }
   ],
   "source": [
    "# Importando pacotes\n",
    "\n",
    "import math\n",
    "def numPrimo(num):\n",
    "    '''Verificando se um número é primo'''\n",
    "    if (num % 2) == 0 and (num > 2):\n",
    "        return \"este número não é primo\"\n",
    "    for rec in range(3, (int(math.sqrt(num)) + 1), 2):\n",
    "        if (num % rec) == 0:\n",
    "            return 'Este número não é primo'\n",
    "    return 'Este número é primo'\n",
    "\n",
    "\n",
    "print(numPrimo(3))"
   ]
  },
  {
   "cell_type": "code",
   "execution_count": 3,
   "metadata": {},
   "outputs": [
    {
     "name": "stdout",
     "output_type": "stream",
     "text": [
      "my var1: 12\n",
      "my item: 1\n",
      "my item: 2\n",
      "my item: 3\n"
     ]
    }
   ],
   "source": [
    "# Definindo a quantidade de parametros de um metodo em tempo de execução\n",
    "\n",
    "def myWeirdFunction(xvar1, *xvar2):\n",
    "    print('my var1: %a' %(xvar1))\n",
    "    for rec in xvar2:\n",
    "        print('my item: %a' %(rec))\n",
    "        \n",
    "myWeirdFunction(12,1,2,3)"
   ]
  },
  {
   "cell_type": "markdown",
   "metadata": {},
   "source": [
    "## Expressões Lambda"
   ]
  },
  {
   "cell_type": "code",
   "execution_count": 5,
   "metadata": {},
   "outputs": [
    {
     "name": "stdout",
     "output_type": "stream",
     "text": [
      "6\n"
     ]
    }
   ],
   "source": [
    "#  Sintaxe básica\n",
    "# Atribui processamento a um objeto e executa o pocessamento pelo próprio objeto em seguida\n",
    "\n",
    "myVar = lambda x:x*2\n",
    "print(myVar(3))"
   ]
  },
  {
   "cell_type": "code",
   "execution_count": 7,
   "metadata": {},
   "outputs": [
    {
     "data": {
      "text/plain": [
       "'abo'"
      ]
     },
     "execution_count": 7,
     "metadata": {},
     "output_type": "execute_result"
    }
   ],
   "source": [
    "# Lambda para reverter as letras de umna palavra\n",
    "\n",
    "reverse = lambda x:x[::-1]\n",
    "reverse('oba')"
   ]
  },
  {
   "cell_type": "code",
   "execution_count": 8,
   "metadata": {},
   "outputs": [
    {
     "name": "stdout",
     "output_type": "stream",
     "text": [
      "462\n"
     ]
    }
   ],
   "source": [
    "listaB = [32,53,85,10,15,17,19]\n",
    "soma = 0\n",
    "for i in listaB:\n",
    "    double_i = i * 2\n",
    "    soma += double_i\n",
    "\n",
    "print(soma)"
   ]
  }
 ],
 "metadata": {
  "kernelspec": {
   "display_name": "Python 3",
   "language": "python",
   "name": "python3"
  },
  "language_info": {
   "codemirror_mode": {
    "name": "ipython",
    "version": 3
   },
   "file_extension": ".py",
   "mimetype": "text/x-python",
   "name": "python",
   "nbconvert_exporter": "python",
   "pygments_lexer": "ipython3",
   "version": "3.8.5"
  }
 },
 "nbformat": 4,
 "nbformat_minor": 4
}
