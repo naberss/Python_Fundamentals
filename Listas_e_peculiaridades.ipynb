{
 "cells": [
  {
   "cell_type": "markdown",
   "metadata": {},
   "source": [
    "# Cap 02 - Listas \n",
    "## Github http://github.com/naberss"
   ]
  },
  {
   "cell_type": "markdown",
   "metadata": {},
   "source": [
    "## Listas comuns"
   ]
  },
  {
   "cell_type": "code",
   "execution_count": 2,
   "metadata": {},
   "outputs": [
    {
     "name": "stdout",
     "output_type": "stream",
     "text": [
      "['pera', 'mamao', 'banana']\n"
     ]
    }
   ],
   "source": [
    "# Minha primeira Lista \n",
    "\n",
    "my_list = [\"pera\",\"mamao\",\"banana\"]\n",
    "print(my_list)"
   ]
  },
  {
   "cell_type": "code",
   "execution_count": 3,
   "metadata": {
    "scrolled": true
   },
   "outputs": [
    {
     "name": "stdout",
     "output_type": "stream",
     "text": [
      "[1, 'pera', 35, 'mamao']\n"
     ]
    }
   ],
   "source": [
    "# Listas não tem restrição de tipo fixo\n",
    "\n",
    "my_list2 = [1,'pera',35,\"mamao\"]\n",
    "print(my_list2)"
   ]
  },
  {
   "cell_type": "code",
   "execution_count": 6,
   "metadata": {},
   "outputs": [
    {
     "name": "stdout",
     "output_type": "stream",
     "text": [
      "['shakira', 'pera', 35, 'mamao']\n"
     ]
    }
   ],
   "source": [
    "# Atualizando elementos de uma lista\n",
    "\n",
    "my_list2[0] = 'shakira'\n",
    "print(my_list2)"
   ]
  },
  {
   "cell_type": "code",
   "execution_count": 15,
   "metadata": {},
   "outputs": [
    {
     "data": {
      "text/plain": [
       "[]"
      ]
     },
     "execution_count": 15,
     "metadata": {},
     "output_type": "execute_result"
    }
   ],
   "source": [
    "# Deletando elementos de uma lista\n",
    "\n",
    "del my_list[0]\n",
    "print(my_list2)"
   ]
  },
  {
   "cell_type": "markdown",
   "metadata": {},
   "source": [
    "## Listas Aninhadas (Nested Lists)"
   ]
  },
  {
   "cell_type": "code",
   "execution_count": 18,
   "metadata": {},
   "outputs": [
    {
     "name": "stdout",
     "output_type": "stream",
     "text": [
      "[[1, 2, 3], [3, 3, 7]]\n"
     ]
    }
   ],
   "source": [
    "# Criando uma lista aninhada (Nestes list)\n",
    "\n",
    "my_list2 = [[1,2,3],[3,3,7]]\n",
    "print(my_list2)"
   ]
  },
  {
   "cell_type": "code",
   "execution_count": 20,
   "metadata": {},
   "outputs": [
    {
     "name": "stdout",
     "output_type": "stream",
     "text": [
      "[1, 2, 3]\n",
      "1\n"
     ]
    }
   ],
   "source": [
    "# Slicing manual de listas\n",
    "\n",
    "my_single_list = my_list2[0]\n",
    "print(my_single_list)\n",
    "my_sigle_element = my_single_list[0]\n",
    "print(my_sigle_element)"
   ]
  },
  {
   "cell_type": "code",
   "execution_count": 21,
   "metadata": {},
   "outputs": [
    {
     "name": "stdout",
     "output_type": "stream",
     "text": [
      "7\n"
     ]
    }
   ],
   "source": [
    "# Acessando elementos da sublista a partir de índices (igual matrizes em java)\n",
    "# my_list2[linha][coluna]\n",
    "\n",
    "print(my_list2[1][2])"
   ]
  },
  {
   "cell_type": "code",
   "execution_count": 22,
   "metadata": {},
   "outputs": [
    {
     "name": "stdout",
     "output_type": "stream",
     "text": [
      "[1, 2, 3, 3, 2, 1]\n"
     ]
    }
   ],
   "source": [
    "## Concatenando listas\n",
    "\n",
    "my_list_aux1 = [1,2,3]\n",
    "my_list_aux2 = [3,2,1]\n",
    "my_list_aux3 = (my_list_aux1 + my_list_aux2)\n",
    "print(my_list_aux3)"
   ]
  },
  {
   "cell_type": "markdown",
   "metadata": {},
   "source": [
    "## Funções Built-in"
   ]
  },
  {
   "cell_type": "code",
   "execution_count": 23,
   "metadata": {},
   "outputs": [
    {
     "data": {
      "text/plain": [
       "6"
      ]
     },
     "execution_count": 23,
     "metadata": {},
     "output_type": "execute_result"
    }
   ],
   "source": [
    "# len(my_list): Retorna a quantidade de elementos de uma lista, de 1 à N caso hajam itens\n",
    "\n",
    "len(my_list_aux3)"
   ]
  },
  {
   "cell_type": "code",
   "execution_count": 24,
   "metadata": {},
   "outputs": [
    {
     "data": {
      "text/plain": [
       "3"
      ]
     },
     "execution_count": 24,
     "metadata": {},
     "output_type": "execute_result"
    }
   ],
   "source": [
    "# max(my_list): Retorna o valor máximo da lista\n",
    "\n",
    "max(my_list_aux3)"
   ]
  },
  {
   "cell_type": "code",
   "execution_count": 25,
   "metadata": {},
   "outputs": [
    {
     "data": {
      "text/plain": [
       "1"
      ]
     },
     "execution_count": 25,
     "metadata": {},
     "output_type": "execute_result"
    }
   ],
   "source": [
    "# min(my_list): Retorna o valor mínimo da lista\n",
    "\n",
    "min(my_list_aux3)"
   ]
  },
  {
   "cell_type": "code",
   "execution_count": 26,
   "metadata": {},
   "outputs": [
    {
     "name": "stdout",
     "output_type": "stream",
     "text": [
      "[1, 2, 3, 3, 2, 1, 5]\n"
     ]
    }
   ],
   "source": [
    "# Append(New_element): Adiciona novos valores a lista\n",
    "\n",
    "my_list_aux3.append(5)\n",
    "print(my_list_aux3)"
   ]
  },
  {
   "cell_type": "code",
   "execution_count": 27,
   "metadata": {},
   "outputs": [
    {
     "data": {
      "text/plain": [
       "2"
      ]
     },
     "execution_count": 27,
     "metadata": {},
     "output_type": "execute_result"
    }
   ],
   "source": [
    "# Count(P): Conta a quantidade de ocorrências do elemento P na lista\n",
    "\n",
    "my_list_aux3.count(3)"
   ]
  },
  {
   "cell_type": "code",
   "execution_count": 71,
   "metadata": {},
   "outputs": [],
   "source": [
    "# = [] Criando uma lista vazia \n",
    "my_new_list = []"
   ]
  },
  {
   "cell_type": "markdown",
   "metadata": {},
   "source": [
    "### Usando loop for para copiar elementos de uma lista para outra"
   ]
  },
  {
   "cell_type": "code",
   "execution_count": 72,
   "metadata": {},
   "outputs": [
    {
     "name": "stdout",
     "output_type": "stream",
     "text": [
      "[1, 2, 3, 3, 2, 1, 5]\n"
     ]
    }
   ],
   "source": [
    "# Indicador rec é utilizado para servir de cópia em runtime de cada elemento em um índice especifico da matriz que esta sendo duplicada\n",
    "\n",
    "for rec in my_list_aux3 :\n",
    "    my_new_list.append(rec)\n",
    "    \n",
    "print(my_new_list)    "
   ]
  },
  {
   "cell_type": "code",
   "execution_count": 77,
   "metadata": {},
   "outputs": [
    {
     "name": "stdout",
     "output_type": "stream",
     "text": [
      "[1, 2, 3, 3, 2, 1, 5, 1, 2, 3, 3, 2, 1, 5, 1, 2, 3, 3, 2, 1, 5, 1, 2, 3, 3, 2, 1, 5, 1, 2, 3, 3, 2, 1, 5, 1, 2, 3, 3, 2, 1, 5]\n"
     ]
    }
   ],
   "source": [
    "# Extend(): Adiciona novos elementos (mais de um), sejam eles variáveis ou elementos RAW a lista indicada no prefixo\n",
    "# Aceita apenas um argumento\n",
    "\n",
    "my_new_list.extend(my_list_aux3)\n",
    "print(my_new_list)"
   ]
  },
  {
   "cell_type": "code",
   "execution_count": 78,
   "metadata": {},
   "outputs": [
    {
     "data": {
      "text/plain": [
       "0"
      ]
     },
     "execution_count": 78,
     "metadata": {},
     "output_type": "execute_result"
    }
   ],
   "source": [
    "#Index(P): Pesquisa na lista o índice da primeira ocorrência do elemento indicado pelo parâmetro P\n",
    "\n",
    "my_new_list.index(1)"
   ]
  },
  {
   "cell_type": "code",
   "execution_count": 80,
   "metadata": {},
   "outputs": [
    {
     "name": "stdout",
     "output_type": "stream",
     "text": [
      "[1, 454, 2, 3, 3, 2, 1, 5, 1, 2, 3, 3, 2, 1, 5, 1, 2, 3, 3, 2, 1, 5, 1, 2, 3, 3, 2, 1, 5, 1, 2, 3, 3, 2, 1, 5, 1, 2, 3, 3, 2, 1, 5]\n"
     ]
    }
   ],
   "source": [
    "# Insert(Z,P): Insere no índice Z o valor indicado pelo parâmetro P\n",
    "# Caso o indíce Z ja estiver ocupado na lista, seu valor atual será copiado para o indice (Z+1) para que o valor P possa ocupar o index Z\n",
    "\n",
    "my_new_list.insert(1,454)\n",
    "print(my_new_list)"
   ]
  },
  {
   "cell_type": "code",
   "execution_count": 81,
   "metadata": {},
   "outputs": [
    {
     "name": "stdout",
     "output_type": "stream",
     "text": [
      "[1, 2, 3, 3, 2, 1, 5, 1, 2, 3, 3, 2, 1, 5, 1, 2, 3, 3, 2, 1, 5, 1, 2, 3, 3, 2, 1, 5, 1, 2, 3, 3, 2, 1, 5, 1, 2, 3, 3, 2, 1, 5]\n"
     ]
    }
   ],
   "source": [
    "# Remove(P): Remove a primeira ocorrência do elemento indicado pelo valor P na lista\n",
    "\n",
    "my_new_list.remove(454)\n",
    "print(my_new_list)\n"
   ]
  },
  {
   "cell_type": "code",
   "execution_count": 82,
   "metadata": {},
   "outputs": [
    {
     "name": "stdout",
     "output_type": "stream",
     "text": [
      "[5, 1, 2, 3, 3, 2, 1, 5, 1, 2, 3, 3, 2, 1, 5, 1, 2, 3, 3, 2, 1, 5, 1, 2, 3, 3, 2, 1, 5, 1, 2, 3, 3, 2, 1, 5, 1, 2, 3, 3, 2, 1]\n"
     ]
    }
   ],
   "source": [
    "# Reverse(): Inverte todas as posições da lista, de forma que o valor do 1º índice passa a ser o último e por ai vai\n",
    "\n",
    "my_new_list.reverse()\n",
    "print(my_new_list)"
   ]
  },
  {
   "cell_type": "code",
   "execution_count": 83,
   "metadata": {},
   "outputs": [
    {
     "name": "stdout",
     "output_type": "stream",
     "text": [
      "[1, 1, 1, 1, 1, 1, 1, 1, 1, 1, 1, 1, 2, 2, 2, 2, 2, 2, 2, 2, 2, 2, 2, 2, 3, 3, 3, 3, 3, 3, 3, 3, 3, 3, 3, 3, 5, 5, 5, 5, 5, 5]\n"
     ]
    }
   ],
   "source": [
    "# Sort(): Ordena de maneira ascendente a lista usada como prefixo.\n",
    "# Caso posições distintas possuam valores idênticos a hierarquia na ordenação será a mesma que antes da alteração realizada pelo Sort()\n",
    "\n",
    "my_new_list.sort()\n",
    "print(my_new_list)"
   ]
  }
 ],
 "metadata": {
  "kernelspec": {
   "display_name": "Python 3",
   "language": "python",
   "name": "python3"
  },
  "language_info": {
   "codemirror_mode": {
    "name": "ipython",
    "version": 3
   },
   "file_extension": ".py",
   "mimetype": "text/x-python",
   "name": "python",
   "nbconvert_exporter": "python",
   "pygments_lexer": "ipython3",
   "version": "3.8.5"
  }
 },
 "nbformat": 4,
 "nbformat_minor": 4
}
