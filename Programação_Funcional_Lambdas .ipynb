{
 "cells": [
  {
   "cell_type": "markdown",
   "metadata": {},
   "source": [
    "# Programação Funcional\n",
    "## Github: http://github.com/naberss"
   ]
  },
  {
   "cell_type": "code",
   "execution_count": 2,
   "metadata": {},
   "outputs": [
    {
     "name": "stdout",
     "output_type": "stream",
     "text": [
      "[1, 2, 3, 4]\n",
      "[2, 4, 6, 8]\n"
     ]
    }
   ],
   "source": [
    "# Função Map\n",
    "def myfunc(value):\n",
    "    return value*2\n",
    "\n",
    "mylist = [1,2,3,4]\n",
    "print(mylist)\n",
    "mylist = map(myfunc,mylist)\n",
    "print(list(mylist))"
   ]
  },
  {
   "cell_type": "code",
   "execution_count": 3,
   "metadata": {},
   "outputs": [
    {
     "name": "stdout",
     "output_type": "stream",
     "text": [
      "[1, 2, 3, 4]\n",
      "[2, 4, 6, 8]\n"
     ]
    }
   ],
   "source": [
    "# Automatizando as operações com lambda\n",
    "\n",
    "mylist = [1,2,3,4]\n",
    "print(mylist)\n",
    "mylist = map(lambda x:x*2,mylist)\n",
    "print(list(mylist))"
   ]
  },
  {
   "cell_type": "code",
   "execution_count": 5,
   "metadata": {},
   "outputs": [
    {
     "name": "stdout",
     "output_type": "stream",
     "text": [
      "[1, 2, 3, 4]\n",
      "[12, 22, 32, 42]\n",
      "[13, 24, 35, 46]\n"
     ]
    }
   ],
   "source": [
    "# (Map + lambda) com multiplos argumentos\n",
    "\n",
    "mylist = [1,2,3,4]\n",
    "mylist2 = [12,22,32,42]\n",
    "print(mylist)\n",
    "mylist = map(lambda x,y:x+y,mylist,mylist2)\n",
    "print(mylist2)\n",
    "print(list(mylist))"
   ]
  }
 ],
 "metadata": {
  "kernelspec": {
   "display_name": "Python 3",
   "language": "python",
   "name": "python3"
  },
  "language_info": {
   "codemirror_mode": {
    "name": "ipython",
    "version": 3
   },
   "file_extension": ".py",
   "mimetype": "text/x-python",
   "name": "python",
   "nbconvert_exporter": "python",
   "pygments_lexer": "ipython3",
   "version": "3.8.5"
  }
 },
 "nbformat": 4,
 "nbformat_minor": 4
}
