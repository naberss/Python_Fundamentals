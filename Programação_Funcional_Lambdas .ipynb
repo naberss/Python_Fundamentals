{
 "cells": [
  {
   "cell_type": "markdown",
   "metadata": {},
   "source": [
    "# Programação Funcional\n",
    "## Github: http://github.com/naberss"
   ]
  },
  {
   "cell_type": "code",
   "execution_count": 2,
   "metadata": {},
   "outputs": [
    {
     "name": "stdout",
     "output_type": "stream",
     "text": [
      "[1, 2, 3, 4]\n",
      "[2, 4, 6, 8]\n"
     ]
    }
   ],
   "source": [
    "# Função Map\n",
    "def myfunc(value):\n",
    "    return value*2\n",
    "\n",
    "mylist = [1,2,3,4]\n",
    "print(mylist)\n",
    "mylist = map(myfunc,mylist)\n",
    "print(list(mylist))"
   ]
  },
  {
   "cell_type": "code",
   "execution_count": 3,
   "metadata": {},
   "outputs": [
    {
     "name": "stdout",
     "output_type": "stream",
     "text": [
      "[1, 2, 3, 4]\n",
      "[2, 4, 6, 8]\n"
     ]
    }
   ],
   "source": [
    "# Automatizando as operações com lambda\n",
    "\n",
    "mylist = [1,2,3,4]\n",
    "print(mylist)\n",
    "mylist = map(lambda x:x*2,mylist)\n",
    "print(list(mylist))"
   ]
  },
  {
   "cell_type": "code",
   "execution_count": 5,
   "metadata": {},
   "outputs": [
    {
     "name": "stdout",
     "output_type": "stream",
     "text": [
      "[1, 2, 3, 4]\n",
      "[12, 22, 32, 42]\n",
      "[13, 24, 35, 46]\n"
     ]
    }
   ],
   "source": [
    "# (Map + lambda) com multiplos argumentos\n",
    "\n",
    "mylist = [1,2,3,4]\n",
    "mylist2 = [12,22,32,42]\n",
    "print(mylist)\n",
    "mylist = map(lambda x,y:x+y,mylist,mylist2)\n",
    "print(mylist2)\n",
    "print(list(mylist))"
   ]
  },
  {
   "cell_type": "code",
   "execution_count": 1,
   "metadata": {},
   "outputs": [
    {
     "name": "stdout",
     "output_type": "stream",
     "text": [
      "10\n"
     ]
    }
   ],
   "source": [
    "# (Reduce + lambda)\n",
    "\n",
    "from functools import reduce\n",
    "\n",
    "mylist = [1,2,3,4]\n",
    "print(reduce(lambda x,y: x+y,mylist))"
   ]
  },
  {
   "cell_type": "code",
   "execution_count": 5,
   "metadata": {},
   "outputs": [
    {
     "name": "stdout",
     "output_type": "stream",
     "text": [
      "4\n"
     ]
    }
   ],
   "source": [
    "# Retornando o maior valor via (reduce + lambda)\n",
    "\n",
    "maxValue = lambda x,y: x if (x > y)  else y\n",
    "print(reduce(maxValue,mylist))"
   ]
  },
  {
   "cell_type": "code",
   "execution_count": 8,
   "metadata": {},
   "outputs": [
    {
     "name": "stdout",
     "output_type": "stream",
     "text": [
      "[<function <lambda> at 0x000002A919D2A670>, [1, 2, 3, 4]]\n"
     ]
    }
   ],
   "source": [
    "# (Filer + lambda)\n",
    "\n",
    "PairValue = (lambda x:x%2==0,mylist)\n",
    "print(list(PairValue))"
   ]
  },
  {
   "cell_type": "code",
   "execution_count": 9,
   "metadata": {},
   "outputs": [
    {
     "name": "stdout",
     "output_type": "stream",
     "text": [
      "['p', 'e', 'r', 'e', 'i', 'r', 'a']\n"
     ]
    }
   ],
   "source": [
    "# List comprehension\n",
    "\n",
    "mylist = [x for x in 'pereira']\n",
    "print(mylist)"
   ]
  },
  {
   "cell_type": "code",
   "execution_count": 10,
   "metadata": {},
   "outputs": [
    {
     "name": "stdout",
     "output_type": "stream",
     "text": [
      "[0, 2, 4, 6, 8]\n"
     ]
    }
   ],
   "source": [
    "# Aplicando funcoes a variavel iterada via ListComprehension\n",
    "\n",
    "mylist = [x*2 for x in range(0,5)]\n",
    "print(mylist)"
   ]
  },
  {
   "cell_type": "code",
   "execution_count": 11,
   "metadata": {},
   "outputs": [
    {
     "name": "stdout",
     "output_type": "stream",
     "text": [
      "[0, 4, 8, 12, 16, 20]\n"
     ]
    }
   ],
   "source": [
    "# Aplicando condicionais a expressoes usando ListComprehension\n",
    "\n",
    "mylist = [x*2 for x in range(0,12) if x % 2 ==0]\n",
    "print(mylist)"
   ]
  },
  {
   "cell_type": "code",
   "execution_count": 14,
   "metadata": {},
   "outputs": [
    {
     "name": "stdout",
     "output_type": "stream",
     "text": [
      "[0, 12, 24]\n"
     ]
    }
   ],
   "source": [
    "# ListComprehensions aninhados\n",
    "\n",
    "mylist =  [x*2 for x in [x*3 for x in range(0,5)] if (x%2)==0]\n",
    "print(mylist)"
   ]
  },
  {
   "cell_type": "code",
   "execution_count": 18,
   "metadata": {},
   "outputs": [
    {
     "name": "stdout",
     "output_type": "stream",
     "text": [
      "((1, 1), (2, 2), (3, 3), (4, 4), (4, 4), (6, 5))\n"
     ]
    }
   ],
   "source": [
    "# Zip() em sequências\n",
    "\n",
    "test = zip([1,2,3,4,4,6],[1,2,3,4,4,5])\n",
    "print(tuple(test))"
   ]
  }
 ],
 "metadata": {
  "kernelspec": {
   "display_name": "Python 3",
   "language": "python",
   "name": "python3"
  },
  "language_info": {
   "codemirror_mode": {
    "name": "ipython",
    "version": 3
   },
   "file_extension": ".py",
   "mimetype": "text/x-python",
   "name": "python",
   "nbconvert_exporter": "python",
   "pygments_lexer": "ipython3",
   "version": "3.8.5"
  }
 },
 "nbformat": 4,
 "nbformat_minor": 4
}
