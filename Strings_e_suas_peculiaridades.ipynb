{
 "cells": [
  {
   "cell_type": "markdown",
   "metadata": {},
   "source": [
    "# String e Suas Peculiaridades - Cap. 2\n",
    "Github: https://github.com/naberss"
   ]
  },
  {
   "cell_type": "code",
   "execution_count": 1,
   "metadata": {},
   "outputs": [
    {
     "name": "stdout",
     "output_type": "stream",
     "text": [
      "Versão do Python: 3.8.5\n"
     ]
    }
   ],
   "source": [
    "from platform import python_version\n",
    "print('Versão do Python:', python_version())"
   ]
  },
  {
   "cell_type": "markdown",
   "metadata": {},
   "source": [
    "# Strings"
   ]
  },
  {
   "cell_type": "code",
   "execution_count": 2,
   "metadata": {},
   "outputs": [
    {
     "data": {
      "text/plain": [
       "'my String'"
      ]
     },
     "execution_count": 2,
     "metadata": {},
     "output_type": "execute_result"
    }
   ],
   "source": [
    "# No jupyter possível a impressão de Strings diretamente sem o uso do Print\n",
    "\"my String\""
   ]
  },
  {
   "cell_type": "code",
   "execution_count": 3,
   "metadata": {},
   "outputs": [
    {
     "name": "stdout",
     "output_type": "stream",
     "text": [
      "pera\n",
      "pera\n"
     ]
    }
   ],
   "source": [
    "# Para referenciar uma String pode-se utilizar tanto aspas duplas quanto simples\n",
    "my_var = 'pera'\n",
    "my_var2 = \"pera\"\n",
    "print(my_var)\n",
    "print(my_var2)"
   ]
  },
  {
   "cell_type": "code",
   "execution_count": 4,
   "metadata": {},
   "outputs": [
    {
     "name": "stdout",
     "output_type": "stream",
     "text": [
      "pera mamao 'banana'\n",
      "pera mamao \"banana\"\n"
     ]
    }
   ],
   "source": [
    "# É possível combinar tanto aspas duplas quanto simples em python e.g\n",
    "my_var = \"pera mamao 'banana'\"\n",
    "my_var2 = 'pera mamao \"banana\"'\n",
    "print(my_var)\n",
    "print(my_var2)"
   ]
  },
  {
   "cell_type": "code",
   "execution_count": 5,
   "metadata": {},
   "outputs": [
    {
     "name": "stdout",
     "output_type": "stream",
     "text": [
      "pera \n",
      "mamao \n",
      "banana\n"
     ]
    }
   ],
   "source": [
    "# Testando quebras de linhas igualmente ao java com \\n\n",
    "print(\"pera \\nmamao \\nbanana\")"
   ]
  },
  {
   "cell_type": "markdown",
   "metadata": {},
   "source": [
    "## Indexando Strings"
   ]
  },
  {
   "cell_type": "code",
   "execution_count": 6,
   "metadata": {},
   "outputs": [
    {
     "name": "stdout",
     "output_type": "stream",
     "text": [
      "teste\n"
     ]
    }
   ],
   "source": [
    "my_string = \"teste\"\n",
    "print(my_string) "
   ]
  },
  {
   "cell_type": "code",
   "execution_count": 7,
   "metadata": {},
   "outputs": [
    {
     "name": "stdout",
     "output_type": "stream",
     "text": [
      "t\n",
      "e\n",
      "s\n",
      "t\n",
      "e\n"
     ]
    }
   ],
   "source": [
    "# Utilizando indices da propria string para particiona-la\n",
    "print(my_string[0])\n",
    "print(my_string[1])\n",
    "print(my_string[2])\n",
    "print(my_string[3])\n",
    "print(my_string[4])"
   ]
  },
  {
   "cell_type": "markdown",
   "metadata": {},
   "source": [
    "### Slicing"
   ]
  },
  {
   "cell_type": "code",
   "execution_count": 8,
   "metadata": {},
   "outputs": [
    {
     "name": "stdout",
     "output_type": "stream",
     "text": [
      "teste\n",
      "este\n",
      "test\n",
      "teste\n",
      "tes\n"
     ]
    }
   ],
   "source": [
    "# Retorna os elementos ordenados da String de uma determinada posição a outra\n",
    "print(my_string)\n",
    "print(my_string[1:])\n",
    "print(my_string[:4])\n",
    "print(my_string[:])\n",
    "print(my_string[0:3])"
   ]
  },
  {
   "cell_type": "code",
   "execution_count": 9,
   "metadata": {
    "scrolled": false
   },
   "outputs": [
    {
     "name": "stdout",
     "output_type": "stream",
     "text": [
      "e\n"
     ]
    }
   ],
   "source": [
    "# A indexação também pode ser feita de traz para frente usando indices negativos.\n",
    "\n",
    "# Retorna a última letra\n",
    "print(my_string[-1])"
   ]
  },
  {
   "cell_type": "code",
   "execution_count": 10,
   "metadata": {},
   "outputs": [
    {
     "name": "stdout",
     "output_type": "stream",
     "text": [
      "test\n"
     ]
    }
   ],
   "source": [
    "# Retornando tudo menos a ultima letra\n",
    "print(my_string[:-1])\n"
   ]
  },
  {
   "cell_type": "code",
   "execution_count": 11,
   "metadata": {},
   "outputs": [
    {
     "name": "stdout",
     "output_type": "stream",
     "text": [
      "t -> 1\n",
      "e -> 2\n",
      "s -> 1\n",
      "t -> 2\n",
      "e -> 1\n",
      "\n",
      "\n",
      "t -> 1\n",
      "s -> 1\n",
      "e -> 1\n",
      "\n",
      "\n",
      "tse\n"
     ]
    }
   ],
   "source": [
    "# Usando o slicing para particionar a String em blocos \n",
    "# Esta função cria subindices para cada elemento, que vão até o número apontado pelo paramêtro, e exibe apenas os de valor 1 e.g\n",
    "\n",
    "# Subdivisão de índices\n",
    "print(my_string[0]+\" -> 1\")\n",
    "print(my_string[1]+\" -> 2\")\n",
    "print(my_string[2]+\" -> 1\")\n",
    "print(my_string[3]+\" -> 2\")\n",
    "print(my_string[4]+\" -> 1\")\n",
    "\n",
    "print('\\n')\n",
    "\n",
    "#Índices retornados\n",
    "print(my_string[0]+\" -> 1\")\n",
    "print(my_string[2]+\" -> 1\")\n",
    "print(my_string[4]+\" -> 1\")\n",
    "\n",
    "print('\\n')\n",
    "\n",
    "#Retorno\n",
    "print(my_string[::2])"
   ]
  },
  {
   "cell_type": "code",
   "execution_count": 12,
   "metadata": {},
   "outputs": [
    {
     "data": {
      "text/plain": [
       "'etset'"
      ]
     },
     "execution_count": 12,
     "metadata": {},
     "output_type": "execute_result"
    }
   ],
   "source": [
    "#Retornando uma String escrita de traz para frente\n",
    "\n",
    "my_string[::-1]"
   ]
  },
  {
   "cell_type": "markdown",
   "metadata": {},
   "source": [
    "## Propriedades de Strings"
   ]
  },
  {
   "cell_type": "code",
   "execution_count": 13,
   "metadata": {},
   "outputs": [
    {
     "ename": "TypeError",
     "evalue": "'str' object does not support item assignment",
     "output_type": "error",
     "traceback": [
      "\u001b[1;31m---------------------------------------------------------------------------\u001b[0m",
      "\u001b[1;31mTypeError\u001b[0m                                 Traceback (most recent call last)",
      "\u001b[1;32m<ipython-input-13-cbddaa5096cc>\u001b[0m in \u001b[0;36m<module>\u001b[1;34m\u001b[0m\n\u001b[0;32m      1\u001b[0m \u001b[1;31m# Mostrando na prática que não se faz possível alterar um caracter de uma string, devido a propriedade de imutabilidade\u001b[0m\u001b[1;33m\u001b[0m\u001b[1;33m\u001b[0m\u001b[1;33m\u001b[0m\u001b[0m\n\u001b[0;32m      2\u001b[0m \u001b[1;33m\u001b[0m\u001b[0m\n\u001b[1;32m----> 3\u001b[1;33m \u001b[0mmy_string\u001b[0m\u001b[1;33m[\u001b[0m\u001b[1;36m0\u001b[0m\u001b[1;33m]\u001b[0m \u001b[1;33m=\u001b[0m \u001b[1;34m'x'\u001b[0m\u001b[1;33m\u001b[0m\u001b[1;33m\u001b[0m\u001b[0m\n\u001b[0m",
      "\u001b[1;31mTypeError\u001b[0m: 'str' object does not support item assignment"
     ]
    }
   ],
   "source": [
    "# Mostrando na prática que não se faz possível alterar um caracter de uma string, devido a propriedade de imutabilidade\n",
    "\n",
    "my_string[0] = 'x'\n"
   ]
  },
  {
   "cell_type": "code",
   "execution_count": 15,
   "metadata": {},
   "outputs": [
    {
     "name": "stdout",
     "output_type": "stream",
     "text": [
      "teste teste2\n",
      "teste teste2\n",
      "teste teste2teste teste2\n"
     ]
    }
   ],
   "source": [
    "#Concatenando Strings\n",
    "\n",
    "#Concatenação simples\n",
    "print(my_string + ' teste2')\n",
    "\n",
    "#Concatenando usando o operador de atribuição += (Adiciona uma string a outra)\n",
    "my_string += ' teste2'\n",
    "print(my_string)\n",
    "\n",
    "#Concatenando usando o operador de atribuição *= (atribui N vezes a mesma string a variavel)\n",
    "N = 2\n",
    "my_string *= N\n",
    "print(my_string)"
   ]
  },
  {
   "cell_type": "markdown",
   "metadata": {},
   "source": [
    "## Funções Built-in para Variáveis Varchar()"
   ]
  },
  {
   "cell_type": "code",
   "execution_count": 14,
   "metadata": {
    "scrolled": true
   },
   "outputs": [
    {
     "name": "stdout",
     "output_type": "stream",
     "text": [
      "TESTE\n",
      "teste\n",
      "['teste']\n"
     ]
    }
   ],
   "source": [
    "# upper()\n",
    "print(my_string.upper())\n",
    "\n",
    "# Lower()\n",
    "print(my_string.lower())\n",
    "\n",
    "# Split(): Subdivide a string em N elementos distintos usando o parametro p como início de cada novo elemento\n",
    "print(my_string.split('2'))"
   ]
  },
  {
   "cell_type": "markdown",
   "metadata": {},
   "source": [
    "## Funções String"
   ]
  },
  {
   "cell_type": "code",
   "execution_count": 29,
   "metadata": {},
   "outputs": [
    {
     "name": "stdout",
     "output_type": "stream",
     "text": [
      "Teste teste2teste teste2\n",
      "2\n",
      "11\n",
      "zzzzzzzzzzzzzteste teste2teste teste2zzzzzzzzzzzzz\n",
      "False\n",
      "False\n",
      "True\n",
      "False\n",
      "False\n",
      "False\n",
      "('teste ', 'teste2', 'teste teste2')\n"
     ]
    }
   ],
   "source": [
    "# capitalize(): Devolve a primeira letra de cada elemento subdividido por espaço em letra maiúscula\n",
    "print(my_string.capitalize())\n",
    "\n",
    "# count(P): Devolve a quantidade de elementos indicados pelo parametro P na string \n",
    "print(my_string.count('2'))\n",
    "\n",
    "# Find(P): Devolve o indice da primeira ocorrência do caracter indicado pelo parametro P\n",
    "print(my_string.find('2'))\n",
    "\n",
    "# Center(Z,P): Centraliza a String em questão ao centro da quantidade de caracteres 'Z', preenchendo os espaços vazios\n",
    "# O caracter 'P'\n",
    "print(my_string.center(50,'z'))\n",
    "\n",
    "# Isalnum(): Retorna TRUE se a String for alfanumérica (números / letras) e possuir ao menos um caracter, do \n",
    "# Contrario retorna FALSE\n",
    "# Obs: Espaços e caracteres especiais descaracterizam a variável como alfanumérica e funcão irá retornar falso\n",
    "print(my_string.isalnum())\n",
    "\n",
    "# Isalpha(): Retorna TRUE se a String for alfabética (apenas letras) e possuir ao menos um caracter, do contrario\n",
    "# Retorna FALSE\n",
    "# Obs: Espaços e caracteres especiais descaracterizam a variável como alfanumérica e funcão irá retornar falso\n",
    "print(my_string.isalpha())\n",
    "\n",
    "# Islower(): Retorna TRUE se as letras apresentadas na String forem todas minúsculas\n",
    "print(my_string.islower())\n",
    "\n",
    "# Isupper(): Retorna TRUE se as letras apresentadas na String forem todas maiúsculas\n",
    "print(my_string.isupper())\n",
    "\n",
    "# Isspace(): Retorna TRUE se a String possuir apenas espaços em branco\n",
    "print(my_string.isspace())\n",
    "\n",
    "# Endswith(P): Retorna TRUE se a última letra da String for igual ao caracter em P\n",
    "print(my_string.endswith('b'))\n",
    "\n",
    "# Partition(P): Subdivide a String em 3 partes usando o parâmetro P como separador.\n",
    "# As partições são divididas nos elementos antes do separado P (1), o separador P (2), e todos os elementos após ele.\n",
    "# Obs: Será considerada apenas a 1º ocorrência do separador P\n",
    "print(my_string.partition('teste2'))\n",
    "\n",
    "\n",
    "\n",
    "\n",
    "\n"
   ]
  },
  {
   "cell_type": "markdown",
   "metadata": {},
   "source": [
    "## Comparando Strings"
   ]
  },
  {
   "cell_type": "code",
   "execution_count": 30,
   "metadata": {},
   "outputs": [
    {
     "name": "stdout",
     "output_type": "stream",
     "text": [
      "False\n"
     ]
    }
   ],
   "source": [
    "print(my_string == 'pera')"
   ]
  }
 ],
 "metadata": {
  "kernelspec": {
   "display_name": "Python 3",
   "language": "python",
   "name": "python3"
  },
  "language_info": {
   "codemirror_mode": {
    "name": "ipython",
    "version": 3
   },
   "file_extension": ".py",
   "mimetype": "text/x-python",
   "name": "python",
   "nbconvert_exporter": "python",
   "pygments_lexer": "ipython3",
   "version": "3.8.5"
  }
 },
 "nbformat": 4,
 "nbformat_minor": 4
}
