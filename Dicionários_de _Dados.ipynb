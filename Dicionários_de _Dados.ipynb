{
 "cells": [
  {
   "cell_type": "markdown",
   "metadata": {},
   "source": [
    "# Dicionários de Dados - Cap 02\n",
    "\n",
    "## Github: http://github.com/naberss"
   ]
  },
  {
   "cell_type": "markdown",
   "metadata": {},
   "source": [
    "### Comparando Listas e Dicionários"
   ]
  },
  {
   "cell_type": "code",
   "execution_count": 1,
   "metadata": {},
   "outputs": [
    {
     "name": "stdout",
     "output_type": "stream",
     "text": [
      "[1, 2, 3, 4, 5, 'mamão']\n"
     ]
    }
   ],
   "source": [
    "# Lista\n",
    "\n",
    "my_list= [1,2,3,4,5,'mamão']\n",
    "print(my_list)"
   ]
  },
  {
   "cell_type": "code",
   "execution_count": 5,
   "metadata": {},
   "outputs": [
    {
     "name": "stdout",
     "output_type": "stream",
     "text": [
      "{'Lucas': 1, 'Davi': 2, 'Sandra': 3, 'Berto': 4}\n"
     ]
    }
   ],
   "source": [
    "# Dicionário\n",
    "# Para instanciar valores dentro use {}\n",
    "\n",
    "my_dictitonary = {\"Lucas\":1,\"Davi\":2,\"Sandra\":3,\"Berto\":4}\n",
    "print(my_dictitonary)"
   ]
  },
  {
   "cell_type": "code",
   "execution_count": 7,
   "metadata": {},
   "outputs": [
    {
     "name": "stdout",
     "output_type": "stream",
     "text": [
      "1\n"
     ]
    }
   ],
   "source": [
    "# Buscando o valor de um elemento a partir da chave (Índice do dic.)\n",
    "# Para referenciar índices a partir das chaves utilize []\n",
    "\n",
    "print(my_dictitonary[\"Lucas\"])"
   ]
  },
  {
   "cell_type": "code",
   "execution_count": 8,
   "metadata": {},
   "outputs": [
    {
     "name": "stdout",
     "output_type": "stream",
     "text": [
      "{'Lucas': 1, 'Davi': 2, 'Sandra': 3, 'Berto': 4, 'novo_elemento': 135}\n"
     ]
    }
   ],
   "source": [
    "# Adicionando novos elementos ao dicionário\n",
    "\n",
    "my_dictitonary[\"novo_elemento\"] = 135\n",
    "print(my_dictitonary)"
   ]
  },
  {
   "cell_type": "code",
   "execution_count": 9,
   "metadata": {},
   "outputs": [
    {
     "name": "stdout",
     "output_type": "stream",
     "text": [
      "{}\n"
     ]
    }
   ],
   "source": [
    "# Limpando todos os valores do dicionário\n",
    "\n",
    "my_dictitonary.clear()\n",
    "print(my_dictitonary)"
   ]
  },
  {
   "cell_type": "code",
   "execution_count": 10,
   "metadata": {},
   "outputs": [
    {
     "ename": "NameError",
     "evalue": "name 'my_dictitonary' is not defined",
     "output_type": "error",
     "traceback": [
      "\u001b[1;31m---------------------------------------------------------------------------\u001b[0m",
      "\u001b[1;31mNameError\u001b[0m                                 Traceback (most recent call last)",
      "\u001b[1;32m<ipython-input-10-92ce55a32d20>\u001b[0m in \u001b[0;36m<module>\u001b[1;34m\u001b[0m\n\u001b[0;32m      2\u001b[0m \u001b[1;33m\u001b[0m\u001b[0m\n\u001b[0;32m      3\u001b[0m \u001b[1;32mdel\u001b[0m \u001b[0mmy_dictitonary\u001b[0m\u001b[1;33m\u001b[0m\u001b[1;33m\u001b[0m\u001b[0m\n\u001b[1;32m----> 4\u001b[1;33m \u001b[0mprint\u001b[0m\u001b[1;33m(\u001b[0m\u001b[0mmy_dictitonary\u001b[0m\u001b[1;33m)\u001b[0m\u001b[1;33m\u001b[0m\u001b[1;33m\u001b[0m\u001b[0m\n\u001b[0m",
      "\u001b[1;31mNameError\u001b[0m: name 'my_dictitonary' is not defined"
     ]
    }
   ],
   "source": [
    "# Deletando o dicionário\n",
    "\n",
    "del my_dictitonary\n",
    "print(my_dictitonary)"
   ]
  },
  {
   "cell_type": "code",
   "execution_count": 11,
   "metadata": {},
   "outputs": [
    {
     "data": {
      "text/plain": [
       "4"
      ]
     },
     "execution_count": 11,
     "metadata": {},
     "output_type": "execute_result"
    }
   ],
   "source": [
    "# Len(my_dictitonary): Retorna a quantidade de elementos (tamanho) do dicionário\n",
    "\n",
    "my_dictitonary = {\"Lucas\":1,\"Davi\":2,\"Sandra\":3,\"Berto\":4}\n",
    "len(my_dictitonary)"
   ]
  },
  {
   "cell_type": "code",
   "execution_count": 12,
   "metadata": {},
   "outputs": [
    {
     "data": {
      "text/plain": [
       "dict_keys(['Lucas', 'Davi', 'Sandra', 'Berto'])"
      ]
     },
     "execution_count": 12,
     "metadata": {},
     "output_type": "execute_result"
    }
   ],
   "source": [
    "# Keys(): Retorna apenas as chaves presentes no dicionário\n",
    "\n",
    "my_dictitonary.keys()"
   ]
  },
  {
   "cell_type": "code",
   "execution_count": 13,
   "metadata": {},
   "outputs": [
    {
     "data": {
      "text/plain": [
       "dict_values([1, 2, 3, 4])"
      ]
     },
     "execution_count": 13,
     "metadata": {},
     "output_type": "execute_result"
    }
   ],
   "source": [
    "# Keys(): Retorna apenas os valores presentes no dicionário\n",
    "\n",
    "my_dictitonary.values()"
   ]
  },
  {
   "cell_type": "code",
   "execution_count": 14,
   "metadata": {},
   "outputs": [
    {
     "data": {
      "text/plain": [
       "dict_items([('Lucas', 1), ('Davi', 2), ('Sandra', 3), ('Berto', 4)])"
      ]
     },
     "execution_count": 14,
     "metadata": {},
     "output_type": "execute_result"
    }
   ],
   "source": [
    "# Items(): Retorna todos os itens do dicionário (chaves e valores)\n",
    "my_dictitonary.items()"
   ]
  },
  {
   "cell_type": "code",
   "execution_count": 15,
   "metadata": {},
   "outputs": [
    {
     "name": "stdout",
     "output_type": "stream",
     "text": [
      "{'Lucas': 1, 'Davi': 2, 'Sandra': 3, 'Berto': 4}\n",
      "{'Lucas': 1, 'Davi': 2, 'Sandra': 3, 'Berto': 4, 'pedrinho': 147, 'Abracadabra': 111}\n"
     ]
    }
   ],
   "source": [
    "# Concatenando dicionários\n",
    "\n",
    "my_dictitonary2 = {\"pedrinho\":147,\"Abracadabra\":111}\n",
    "print(my_dictitonary)\n",
    "my_dictitonary.update(my_dictitonary2)\n",
    "print(my_dictitonary)"
   ]
  },
  {
   "cell_type": "code",
   "execution_count": 16,
   "metadata": {},
   "outputs": [
    {
     "name": "stdout",
     "output_type": "stream",
     "text": [
      "{'Lucas': 1, 'Davi': 2, 'Sandra': 3, 'Berto': 4, 'pedrinho': 147, 'Abracadabra': 111, 'my_list': [1, 2, 3, 4]}\n"
     ]
    }
   ],
   "source": [
    "# Utilizando listas como elementos de um dicionário\n",
    "\n",
    "my_dictitonary[\"my_list\"] = [1,2,3,4]\n",
    "print(my_dictitonary)"
   ]
  },
  {
   "cell_type": "code",
   "execution_count": 17,
   "metadata": {},
   "outputs": [
    {
     "data": {
      "text/plain": [
       "1"
      ]
     },
     "execution_count": 17,
     "metadata": {},
     "output_type": "execute_result"
    }
   ],
   "source": [
    "# Acessando elementos da lista que esta dentro do dicionário\n",
    "\n",
    "my_dictitonary[\"my_list\"][0]"
   ]
  },
  {
   "cell_type": "code",
   "execution_count": 18,
   "metadata": {},
   "outputs": [
    {
     "name": "stdout",
     "output_type": "stream",
     "text": [
      "{'Lucas': 1, 'Davi': 2, 'Sandra': 3, 'Berto': 4, 'pedrinho': 147, 'Abracadabra': 111, 'my_list': [1, 2, 3, 4, 154]}\n"
     ]
    }
   ],
   "source": [
    "# É possível utilizar funções built-in de tipos diretament a partir de indices do dicionário\n",
    "\n",
    "my_dictitonary[\"my_list\"].append(154)\n",
    "print(my_dictitonary)"
   ]
  },
  {
   "cell_type": "code",
   "execution_count": 19,
   "metadata": {},
   "outputs": [
    {
     "name": "stdout",
     "output_type": "stream",
     "text": [
      "[150, 2, 3, 4, 154]\n"
     ]
    }
   ],
   "source": [
    "# Utilizando operações de atribuição para atualizar elementos do meu dicionário\n",
    "\n",
    "my_dictitonary[\"my_list\"][0] *=150\n",
    "print(my_dictitonary[\"my_list\"])"
   ]
  },
  {
   "cell_type": "code",
   "execution_count": 21,
   "metadata": {},
   "outputs": [
    {
     "name": "stdout",
     "output_type": "stream",
     "text": [
      "{'Lucas': 1, 'Davi': 2, 'Sandra': 3, 'Berto': 4, 'pedrinho': 147, 'Abracadabra': 111, 'my_list': [150, 2, 3, 4, 154], 'my_nested_dictionary': {'key1': 1335, 'key2': 1338}}\n"
     ]
    }
   ],
   "source": [
    "# Criando dicionário aninhados (Neste dictionaries), ou seja dicionário com elementos que também são dicionários\n",
    "\n",
    "my_dictitonary[\"my_nested_dictionary\"] = {\"key1\":1335,\"key2\":1334,\"key2\":1338}\n",
    "print(my_dictitonary)"
   ]
  },
  {
   "cell_type": "code",
   "execution_count": 22,
   "metadata": {},
   "outputs": [
    {
     "name": "stdout",
     "output_type": "stream",
     "text": [
      "{'key1': 2670, 'key2': 1338}\n"
     ]
    }
   ],
   "source": [
    "# Manipulando e acessando elementos do meu Nested Dictionary\n",
    "\n",
    "my_dictitonary[\"my_nested_dictionary\"][\"key1\"] *= 2\n",
    "print(my_dictitonary[\"my_nested_dictionary\"])"
   ]
  }
 ],
 "metadata": {
  "kernelspec": {
   "display_name": "Python 3",
   "language": "python",
   "name": "python3"
  },
  "language_info": {
   "codemirror_mode": {
    "name": "ipython",
    "version": 3
   },
   "file_extension": ".py",
   "mimetype": "text/x-python",
   "name": "python",
   "nbconvert_exporter": "python",
   "pygments_lexer": "ipython3",
   "version": "3.8.5"
  }
 },
 "nbformat": 4,
 "nbformat_minor": 4
}
