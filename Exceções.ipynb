{
 "cells": [
  {
   "cell_type": "markdown",
   "metadata": {},
   "source": [
    "# Tratamento de Exceções\n",
    "## Github: http://github.com/naberss"
   ]
  },
  {
   "cell_type": "code",
   "execution_count": 1,
   "metadata": {},
   "outputs": [
    {
     "name": "stdout",
     "output_type": "stream",
     "text": [
      "ticaracatica\n",
      "didi\n"
     ]
    }
   ],
   "source": [
    "# Sintaxe (TRY - EXCEPT - ELSE - FINALLY)\n",
    "\n",
    "try:\n",
    "    8+8\n",
    "except TypeError:\n",
    "    print('pereira')\n",
    "else:\n",
    "    print('ticaracatica')\n",
    "finally:\n",
    "    print('didi')"
   ]
  },
  {
   "cell_type": "code",
   "execution_count": 5,
   "metadata": {},
   "outputs": [
    {
     "name": "stdout",
     "output_type": "stream",
     "text": [
      "type it: s\n",
      "try again\n",
      "type it: s\n",
      "try again\n",
      "type it: s\n",
      "try again\n",
      "type it: 4\n",
      "congrats\n"
     ]
    }
   ],
   "source": [
    "# Tratando exceções recursivamente usando (WHILE - LOOP)\n",
    "\n",
    "while True:\n",
    "    try:\n",
    "        val = int(input(\"type it: \"))\n",
    "    except:\n",
    "        print('try again')\n",
    "        continue\n",
    "    else:\n",
    "        print('congrats')\n",
    "        break"
   ]
  },
  {
   "cell_type": "code",
   "execution_count": null,
   "metadata": {},
   "outputs": [],
   "source": []
  }
 ],
 "metadata": {
  "kernelspec": {
   "display_name": "Python 3",
   "language": "python",
   "name": "python3"
  },
  "language_info": {
   "codemirror_mode": {
    "name": "ipython",
    "version": 3
   },
   "file_extension": ".py",
   "mimetype": "text/x-python",
   "name": "python",
   "nbconvert_exporter": "python",
   "pygments_lexer": "ipython3",
   "version": "3.8.5"
  }
 },
 "nbformat": 4,
 "nbformat_minor": 4
}
