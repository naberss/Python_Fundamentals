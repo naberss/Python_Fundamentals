{
 "cells": [
  {
   "cell_type": "markdown",
   "metadata": {},
   "source": [
    "# Manipulação de Data\n",
    "## Github: http://github.com/naberss"
   ]
  },
  {
   "cell_type": "markdown",
   "metadata": {},
   "source": [
    "### DateTime\n",
    "#### Para manipulação de datas"
   ]
  },
  {
   "cell_type": "code",
   "execution_count": 12,
   "metadata": {},
   "outputs": [
    {
     "name": "stdout",
     "output_type": "stream",
     "text": [
      "2021-08-04 21:06:06.736407\n"
     ]
    }
   ],
   "source": [
    "# Importando pacote\n",
    "\n",
    "import datetime as time\n",
    "\n",
    "# Buscando Data/Horario atual\n",
    "\n",
    "now = time.datetime.now()\n",
    "print(now)"
   ]
  },
  {
   "cell_type": "code",
   "execution_count": 19,
   "metadata": {},
   "outputs": [
    {
     "name": "stdout",
     "output_type": "stream",
     "text": [
      "10:20:30\n",
      "Hora:  10\n",
      "Minuto:  20\n",
      "Segundo:  30\n",
      "Microsegundo:  0\n"
     ]
    }
   ],
   "source": [
    "# Manufaturando datas\n",
    "\n",
    "# Criando objeto time\n",
    "mytime = time.time(10,20,30)\n",
    "print(mytime)\n",
    "\n",
    "print(\"Hora: \",mytime.hour)\n",
    "print(\"Minuto: \",mytime.minute)\n",
    "print(\"Segundo: \",mytime.second)\n",
    "print(\"Microsegundo: \",mytime.microsecond)"
   ]
  },
  {
   "cell_type": "code",
   "execution_count": 22,
   "metadata": {},
   "outputs": [
    {
     "name": "stdout",
     "output_type": "stream",
     "text": [
      "2021-08-04\n",
      "Horario:  Wed Aug  4 00:00:00 2021\n",
      "dia:  4\n",
      "mes:  8\n",
      "ano:  2021\n"
     ]
    }
   ],
   "source": [
    "# Criando objeto date\n",
    "mydate = time.date.today()\n",
    "print(mydate)\n",
    "print(\"Horario: \",mydate.ctime())\n",
    "print(\"dia: \",mydate.day)\n",
    "print(\"mes: \",mydate.month)\n",
    "print(\"ano: \",mydate.year)"
   ]
  }
 ],
 "metadata": {
  "kernelspec": {
   "display_name": "Python 3",
   "language": "python",
   "name": "python3"
  },
  "language_info": {
   "codemirror_mode": {
    "name": "ipython",
    "version": 3
   },
   "file_extension": ".py",
   "mimetype": "text/x-python",
   "name": "python",
   "nbconvert_exporter": "python",
   "pygments_lexer": "ipython3",
   "version": "3.8.5"
  }
 },
 "nbformat": 4,
 "nbformat_minor": 4
}
